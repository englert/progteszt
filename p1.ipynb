{
 "cells": [
  {
   "cell_type": "markdown",
   "id": "a6527671-100d-494d-8488-e4f7fa5d57f1",
   "metadata": {},
   "source": [
    "# 01. Feladat: Két szám összege.\n",
    "### Írj egy függvényt \"osszead\" néven, amely két számot kap és visszatér a két szám összegével.'''"
   ]
  },
  {
   "cell_type": "code",
   "execution_count": 1,
   "id": "b3b24af3-7bde-4d50-849f-f805aaf0bb3b",
   "metadata": {},
   "outputs": [],
   "source": [
    "def osszead(a,b):\n",
    "    ..."
   ]
  },
  {
   "cell_type": "code",
   "execution_count": 5,
   "id": "5b3aa6bd-3c0e-4e07-953f-d40028466b8f",
   "metadata": {
    "scrolled": true
   },
   "outputs": [],
   "source": [
    "assert osszead(12, -8) == 4\n",
    "assert osszead(12,  8) == 20"
   ]
  },
  {
   "cell_type": "markdown",
   "id": "922f6599-a6c8-4291-9a57-34f555445b6b",
   "metadata": {},
   "source": [
    "# 02. Feladat: Melyik a kisebb?\n",
    "### Írj egy függvényt \"kisebb\" néven, amely két számot kap és visszatér a legkisebbel."
   ]
  },
  {
   "cell_type": "code",
   "execution_count": 3,
   "id": "3a1a53cb-033b-43b7-b8a2-695a0ec74349",
   "metadata": {},
   "outputs": [],
   "source": [
    "def kisebb(a,b):\n",
    "    ..."
   ]
  },
  {
   "cell_type": "code",
   "execution_count": null,
   "id": "5ae50311-bf3a-4098-a448-014f8cbba6f8",
   "metadata": {},
   "outputs": [],
   "source": [
    "assert kisebb(12, -8) == -8\n",
    "assert kisebb(-8, 12) == -8"
   ]
  },
  {
   "cell_type": "markdown",
   "id": "e7eec8f8-3a8d-4cc6-af2a-e100f2af8598",
   "metadata": {},
   "source": [
    "# 03. Feladat: Melyik a nagyobb?\n",
    "### Írj egy függvényt \"nagyobb\" néven, amely két számot kap és visszatér a legnagyobbal.'''"
   ]
  },
  {
   "cell_type": "code",
   "execution_count": null,
   "id": "035022ae-c17a-4f30-89e0-cd84a3c222c5",
   "metadata": {},
   "outputs": [],
   "source": [
    "def nagyobb(a,b):\n",
    "    ..."
   ]
  },
  {
   "cell_type": "code",
   "execution_count": null,
   "id": "9cba0421-91b0-464d-bf9a-43d2b22e87c5",
   "metadata": {},
   "outputs": [],
   "source": [
    "assert nagyobb(12, -8) == 12    \n",
    "assert nagyobb(-8, 12) == 12    "
   ]
  },
  {
   "cell_type": "markdown",
   "id": "cda1bb07-eb99-4782-8ab0-760198cef0f8",
   "metadata": {},
   "source": [
    "# 04. Feladat: Számtani közép\n",
    "### Írj \"szamtani_kozep\" néven függvényt, amely két számot kap bemenetként és visszatér a számtani középpel.'''"
   ]
  },
  {
   "cell_type": "code",
   "execution_count": null,
   "id": "a8ad2dc6-6241-4613-8c3c-29250ab2fba4",
   "metadata": {},
   "outputs": [],
   "source": [
    "def szamtani_kozep(a,b):\n",
    "    ..."
   ]
  },
  {
   "cell_type": "code",
   "execution_count": null,
   "id": "5f24c168-524e-4080-922b-e81c9d7aab3a",
   "metadata": {},
   "outputs": [],
   "source": [
    "assert szamtani_kozep(3, 5) == 4.0"
   ]
  },
  {
   "cell_type": "markdown",
   "id": "33b20f75-e18f-41a0-a0ca-1e0b84174e61",
   "metadata": {},
   "source": [
    "# 05.Feladat: Négyzet kerülete'''\n",
    "### Írj \"negyzet_kerulet\" néven függvényt, amely egy négyzet oldalhosszát kapja bemenetként és visszatér a négyzet kerületével.'''"
   ]
  },
  {
   "cell_type": "code",
   "execution_count": null,
   "id": "5354129d-2201-47c7-a38c-5808ba65b45b",
   "metadata": {},
   "outputs": [],
   "source": [
    "def negyzet_kerulet():\n",
    "    ..."
   ]
  },
  {
   "cell_type": "code",
   "execution_count": null,
   "id": "32bc9fea-503a-4bd1-a71f-8a0f0ae42d7b",
   "metadata": {},
   "outputs": [],
   "source": [
    "assert negyzet_kerulet(5.1) == 20.4"
   ]
  },
  {
   "cell_type": "markdown",
   "id": "062faf46-f5c2-4c05-abab-b9c07d44ebd6",
   "metadata": {},
   "source": [
    "# 06. Feladat: Négyzet területe'''\n",
    "### Írj \"negyzet_terulet\" néven függvényt, amely egy négyzet oldalhosszát kapja bemenetként és visszatér a négyzet területével.'''"
   ]
  },
  {
   "cell_type": "code",
   "execution_count": null,
   "id": "975a7864-59f8-4394-8ab2-94a910892e0e",
   "metadata": {},
   "outputs": [],
   "source": [
    "def negyzet_terulet():\n",
    "    ..."
   ]
  },
  {
   "cell_type": "code",
   "execution_count": null,
   "id": "bd82cd42-e49a-49b2-a2df-95d4abde3094",
   "metadata": {},
   "outputs": [],
   "source": [
    "assert negyzet_terulet(5.0) == 25.0"
   ]
  },
  {
   "cell_type": "markdown",
   "id": "9c63698f-0903-493a-b5fd-ba20ae790802",
   "metadata": {},
   "source": [
    "\n",
    "# 07.Feladat: Téglalap kerülete'''\n",
    "### Írj \"teglalap_kerulet\" néven függvényt, amely egy téglalap oldalhosszait kapja bemenetként és visszatér a téglalap kerületével.'''"
   ]
  },
  {
   "cell_type": "code",
   "execution_count": null,
   "id": "f3c1aff5-1ddf-4626-a54d-37a664d6956c",
   "metadata": {},
   "outputs": [],
   "source": [
    "def teglalap_kerulet():\n",
    "    ..."
   ]
  },
  {
   "cell_type": "code",
   "execution_count": null,
   "id": "2ddfdfa6-976e-49c4-8779-b9e54064ed18",
   "metadata": {},
   "outputs": [],
   "source": [
    "assert teglalap_kerulet(5, 6) == 22"
   ]
  },
  {
   "cell_type": "markdown",
   "id": "fee22620-df9e-4378-9b5c-39c3b90548c6",
   "metadata": {},
   "source": [
    "\n",
    "# 08. Feladat: Téglalap területe'''\n",
    "### Írj \"teglalap_terulet\" néven függvényt, amely egy téglalap oldalhosszait kapja bemenetként és visszatér a téglalap területével.'''"
   ]
  },
  {
   "cell_type": "code",
   "execution_count": null,
   "id": "3efc9976-b6b8-444b-a508-b50a01b22ab5",
   "metadata": {},
   "outputs": [],
   "source": [
    "def teglalap_terulet():\n",
    "    ..."
   ]
  },
  {
   "cell_type": "code",
   "execution_count": null,
   "id": "4e167cdb-1de8-4c0e-ae79-4764573a9270",
   "metadata": {},
   "outputs": [],
   "source": [
    "assert teglalap_terulet(5, 6) == 30"
   ]
  },
  {
   "cell_type": "markdown",
   "id": "9ebca416-ac37-44fb-b4ed-d8e894d63323",
   "metadata": {},
   "source": [
    "# 09. Feladat: Két szám különbsége'''\n",
    "### Írj \"kulonbseg\" néven függvényt, amely két számot kap bemenetként és visszatér a két szám különbségével.'''"
   ]
  },
  {
   "cell_type": "code",
   "execution_count": null,
   "id": "5ef74bf9-9ecb-469d-b469-acc30a84f965",
   "metadata": {},
   "outputs": [],
   "source": [
    "def kulonbseg():\n",
    "    ..."
   ]
  },
  {
   "cell_type": "code",
   "execution_count": null,
   "id": "c6b7152b-a8b5-4186-959f-6944dcbc4dd6",
   "metadata": {},
   "outputs": [],
   "source": [
    "assert kulonbseg(5, 6) == -1"
   ]
  },
  {
   "cell_type": "markdown",
   "id": "3a882f8e-7b07-4fe1-b621-9a7cb8b2ece9",
   "metadata": {},
   "source": [
    "# 10. Feladat: Maradékos osztás:'''  \n",
    "### Írj egy \"maradek\" nevü függvényt, amely két számot kap bemenetként és visszatér a két szám osztásának maradékával.'''"
   ]
  },
  {
   "cell_type": "code",
   "execution_count": null,
   "id": "74a3553b-3253-4cb7-92ca-9705a821c10b",
   "metadata": {},
   "outputs": [],
   "source": [
    "def maradek():\n",
    "    ..."
   ]
  },
  {
   "cell_type": "code",
   "execution_count": null,
   "id": "4864dea3-a419-4443-ab63-7d70cd02c1ec",
   "metadata": {},
   "outputs": [],
   "source": [
    "assert maradek(9, 4) == 1\n",
    "assert maradek(8, 4) == 0"
   ]
  },
  {
   "cell_type": "markdown",
   "id": "e589178a-eb52-40c6-888e-7e69365597f3",
   "metadata": {},
   "source": [
    "# 11. Feladat: Páros szám:  '''\n",
    "### Írj egy \"paros\" nevü függvényt, amely egy számot kap bemenetként, majd True-val tér vissza, ha a szám páros és False-al ha a szám páratlan.'''"
   ]
  },
  {
   "cell_type": "code",
   "execution_count": null,
   "id": "d107220d-4752-458e-8521-1441165fcb65",
   "metadata": {},
   "outputs": [],
   "source": [
    "def paros():\n",
    "    ..."
   ]
  },
  {
   "cell_type": "code",
   "execution_count": null,
   "id": "34a496d0-0275-45a0-89dd-a8f678d388f6",
   "metadata": {},
   "outputs": [],
   "source": [
    "assert paros(9) == False\n",
    "assert paros(8) == True"
   ]
  },
  {
   "cell_type": "markdown",
   "id": "284e613f-6ee2-4bee-9480-129492a47e5c",
   "metadata": {},
   "source": [
    "# 12. Feladat: Kettővel osztható:  '''\n",
    "### Írj egy \"kettovel_oszthato\" nevü függvényt, amely egy számot kap bemenetként és True-val tér vissza, ha a szám kettővel osztható és False-al ha nem.'''"
   ]
  },
  {
   "cell_type": "code",
   "execution_count": null,
   "id": "624a31c6-5dfd-4e67-a2a2-4cd3a1aded9e",
   "metadata": {},
   "outputs": [],
   "source": [
    "def kettovel_oszthato():\n",
    "    ..."
   ]
  },
  {
   "cell_type": "code",
   "execution_count": null,
   "id": "0925d337-caa4-498a-a64c-eaf54aa6fd73",
   "metadata": {},
   "outputs": [],
   "source": [
    "assert kettovel_oszthato(12) == True\n",
    "assert kettovel_oszthato(13) == False"
   ]
  },
  {
   "cell_type": "markdown",
   "id": "9bb80176-bc7d-4cd5-80d6-38e965531c41",
   "metadata": {},
   "source": [
    "# 13. Feladat: Hárommal osztható:'''\n",
    "### Írj egy \"harommal_oszthato\" nevü függvényt, amely egy számot kap bemenetként és True-val tér vissza, ha a szám hárommal osztható és False-al ha nem.'''"
   ]
  },
  {
   "cell_type": "code",
   "execution_count": null,
   "id": "5c7372fc-06a1-4e07-bb6c-5d8bb42c2c93",
   "metadata": {},
   "outputs": [],
   "source": [
    "def harommal_oszthato():\n",
    "    ..."
   ]
  },
  {
   "cell_type": "code",
   "execution_count": null,
   "id": "50163ecd-1b63-4bc9-8c7c-e04f18c7bb75",
   "metadata": {},
   "outputs": [],
   "source": [
    "assert harommal_oszthato(15) == True\n",
    "assert harommal_oszthato(16) == False"
   ]
  },
  {
   "cell_type": "markdown",
   "id": "f8df28c7-a2c5-4479-b59c-0e785a31d65e",
   "metadata": {},
   "source": [
    "# 14. Feladat: Héttel osztható: ''' \n",
    "### Írj egy \"hettel_oszthato\" nevü függvényt , amely egy számot kap bemenetként és True-val tér vissza, ha a szám héttel osztható és False-al ha nem.'''"
   ]
  },
  {
   "cell_type": "code",
   "execution_count": null,
   "id": "da0a19bd-6e27-41ce-8511-29a953d15bd3",
   "metadata": {},
   "outputs": [],
   "source": [
    "def hettel_oszthato():\n",
    "    ..."
   ]
  },
  {
   "cell_type": "code",
   "execution_count": null,
   "id": "824d71bd-07c8-4035-a3be-480704da0e6c",
   "metadata": {},
   "outputs": [],
   "source": [
    "assert hettel_oszthato(21) == True\n",
    "assert hettel_oszthato(22) == False"
   ]
  },
  {
   "cell_type": "markdown",
   "id": "af5d6074-f8dd-46b2-962b-88bd5b5c636a",
   "metadata": {},
   "source": [
    "# 15. Feladat: Kocka térfogat: ''' \n",
    "### Írj egy \"kocka_terfogat\" nevü függvényt , amely bemenetként megkapja a kocka oldal hosszúságát és a kocka térfogatával tér vissza.'''"
   ]
  },
  {
   "cell_type": "code",
   "execution_count": null,
   "id": "2f462918-2fc9-425f-9c2e-4786b7c67c1f",
   "metadata": {},
   "outputs": [],
   "source": [
    "def kocka_terfogat():\n",
    "    ..."
   ]
  },
  {
   "cell_type": "code",
   "execution_count": null,
   "id": "960505e2-e96a-4273-a572-20bd4969c85a",
   "metadata": {},
   "outputs": [],
   "source": [
    "assert kocka_terfogat(2) == 8\n",
    "assert kocka_terfogat(3) == 27"
   ]
  },
  {
   "cell_type": "markdown",
   "id": "df6f933c-41d7-41f0-89db-89e22df73b4d",
   "metadata": {},
   "source": [
    "# 16. Feladat: Téglatest térfogat:'''  \n",
    "### Írj egy \"teglatest_terfogat\" nevü függvényt , amely bemenetként megkapja a téglatest oldalainak hosszúságát és a téglatest térfogatával tér vissza.'''"
   ]
  },
  {
   "cell_type": "code",
   "execution_count": null,
   "id": "7ed4e195-7522-42f6-a71d-206b9375858f",
   "metadata": {},
   "outputs": [],
   "source": [
    "def teglatest_terfogat():\n",
    "    ..."
   ]
  },
  {
   "cell_type": "code",
   "execution_count": null,
   "id": "c1c20157-6342-4de5-a5b0-55b2b1852808",
   "metadata": {},
   "outputs": [],
   "source": [
    "assert teglatest_terfogat(2, 3, 4) == 24"
   ]
  },
  {
   "cell_type": "markdown",
   "id": "9f0386b2-171d-435d-a1b7-5c65ebd1fee5",
   "metadata": {},
   "source": [
    "# 17. Feladat: Derékszögü háromszög területe:  '''\n",
    "### Írj egy \"derekszogu_haromszog_terulet\" nevü függvényt , amely bemenetként megkapja a befogók hosszát és a háromszög területével tér vissza.'''"
   ]
  },
  {
   "cell_type": "code",
   "execution_count": null,
   "id": "66b4804b-9505-41a9-8e6f-f46b7c9f70be",
   "metadata": {},
   "outputs": [],
   "source": [
    "def derekszogu_haromszog_terulet():\n",
    "    ..."
   ]
  },
  {
   "cell_type": "code",
   "execution_count": null,
   "id": "9303a89f-8da7-4a7e-84a2-14199c27b67d",
   "metadata": {},
   "outputs": [],
   "source": [
    "assert derekszogu_haromszog_terulet(3, 4) == 6"
   ]
  },
  {
   "cell_type": "markdown",
   "id": "d8ce61c4-5a63-4c6c-aae9-709fee3c8eb3",
   "metadata": {},
   "source": [
    "# 18. Feladat: Derékszögü háromszög átfogója: '''\n",
    "### Írj egy \"derekszogu_haromszog_atfogo\" nevü függvényt , amely bemenetként megkapja a befogók hosszát és az átló hosszával tér vissza.'''"
   ]
  },
  {
   "cell_type": "code",
   "execution_count": null,
   "id": "41049063-5165-4227-8421-a28f40e11e7b",
   "metadata": {},
   "outputs": [],
   "source": [
    "def derekszogu_haromszog_atfogo():\n",
    "    ..."
   ]
  },
  {
   "cell_type": "code",
   "execution_count": null,
   "id": "aab2beb6-f4b7-4403-9acf-44a6ec26e0bb",
   "metadata": {},
   "outputs": [],
   "source": [
    "assert derekszogu_haromszog_atfogo(3, 4), 5.0"
   ]
  },
  {
   "cell_type": "markdown",
   "id": "6f551d70-ecf4-41b9-8acf-6b482ef7421b",
   "metadata": {},
   "source": [
    "# 19. Feladat: Négyzet átlója:  '''\n",
    "### Írj egy \"negyzet_atloja\" nevü függvényt , amely bemenetként megkapja a négyzet oldalának hosszát és az átló hosszával tér vissza.'''"
   ]
  },
  {
   "cell_type": "code",
   "execution_count": null,
   "id": "2036ff43-15f3-46c6-bce1-3dbf50bcb989",
   "metadata": {},
   "outputs": [],
   "source": [
    "def negyzet_atloja():\n",
    "    ..."
   ]
  },
  {
   "cell_type": "code",
   "execution_count": null,
   "id": "328ef886-9e06-437c-a3c8-f5986c81aac6",
   "metadata": {},
   "outputs": [],
   "source": [
    "assert round(negyzet_atloja(10),5) == round(14.142135623730951,5)"
   ]
  },
  {
   "cell_type": "markdown",
   "id": "dd9675d9-6f6d-48d1-b658-6147c8f025b9",
   "metadata": {},
   "source": [
    "# 20. Feladat: Téglalap átlója: '''\n",
    "### Írj egy \"teglalap_atloja\" nevü függvényt , amely bemenetként megkapja az oldalak hosszát és az átló hosszával tér vissza.'''"
   ]
  },
  {
   "cell_type": "code",
   "execution_count": null,
   "id": "ca6b52a7-f5e8-4924-a6bd-1995e9d51221",
   "metadata": {},
   "outputs": [],
   "source": [
    "def teglalap_atloja():\n",
    "    ..."
   ]
  },
  {
   "cell_type": "code",
   "execution_count": null,
   "id": "9de5252a-4bb7-4f67-9dc7-e169e932995a",
   "metadata": {},
   "outputs": [],
   "source": [
    "assert teglalap_atloja(3, 4) == 5.0\n",
    "assert teglalap_atloja(6, 8) == 10.0"
   ]
  },
  {
   "cell_type": "markdown",
   "id": "9dbe90c9-3c5b-4b6c-aebd-728338362fa6",
   "metadata": {},
   "source": [
    "# 21. Feladat: Abszolútérték: '''\n",
    "### Írj egy \"abszolut\" nevü függvényt , amely a bemenő paraméterként kapott szám abszolút értékével tér vissza.'''"
   ]
  },
  {
   "cell_type": "code",
   "execution_count": null,
   "id": "4fde62e1-a6e8-41c6-9177-58f2b6f2f1a5",
   "metadata": {},
   "outputs": [],
   "source": [
    "def abszolut():\n",
    "    ..."
   ]
  },
  {
   "cell_type": "code",
   "execution_count": null,
   "id": "770ea515-4fe0-4cca-8116-773a5ce0c544",
   "metadata": {},
   "outputs": [],
   "source": [
    "assert abszolut( 3) == 3\n",
    "assert abszolut(-7) == 7\n",
    "assert abszolut( 0) == 0"
   ]
  },
  {
   "cell_type": "markdown",
   "id": "ff3492b3-add7-4356-a793-4ec989d6009c",
   "metadata": {},
   "source": [
    "# ========================================================================================================================'''"
   ]
  },
  {
   "cell_type": "code",
   "execution_count": null,
   "id": "98893fb7-dc5c-44c8-a112-44fd82f35ecf",
   "metadata": {},
   "outputs": [],
   "source": []
  }
 ],
 "metadata": {
  "kernelspec": {
   "display_name": "Python 3 (ipykernel)",
   "language": "python",
   "name": "python3"
  },
  "language_info": {
   "codemirror_mode": {
    "name": "ipython",
    "version": 3
   },
   "file_extension": ".py",
   "mimetype": "text/x-python",
   "name": "python",
   "nbconvert_exporter": "python",
   "pygments_lexer": "ipython3",
   "version": "3.10.10"
  }
 },
 "nbformat": 4,
 "nbformat_minor": 5
}
